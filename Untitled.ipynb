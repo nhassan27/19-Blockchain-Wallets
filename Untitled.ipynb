{
 "cells": [
  {
   "cell_type": "code",
   "execution_count": 1,
   "id": "846b166c-f462-4b55-b898-5a9a848280d1",
   "metadata": {},
   "outputs": [],
   "source": [
    "import os\n",
    "import requests\n",
    "from dotenv import load_dotenv\n",
    "load_dotenv('SAMPLE.env')\n",
    "from bip44 import Wallet\n",
    "from web3 import Account\n",
    "from web3 import middleware\n",
    "from web3.gas_strategies.time_based import medium_gas_price_strategy"
   ]
  },
  {
   "cell_type": "code",
   "execution_count": 2,
   "id": "6b4b2fd5-7f8c-48b1-9370-a258c13a41a0",
   "metadata": {},
   "outputs": [
    {
     "name": "stdout",
     "output_type": "stream",
     "text": [
      "uphold spray behave season edge bomb movie hen about bitter eager such\n"
     ]
    }
   ],
   "source": [
    "mnemonic = os.getenv(\"MNEMONIC\")\n",
    "print(mnemonic)"
   ]
  },
  {
   "cell_type": "code",
   "execution_count": 3,
   "id": "93979437-2a98-4c61-b601-8477fa1694eb",
   "metadata": {},
   "outputs": [],
   "source": [
    "people = [\"Lane\", \"Ash\", \"Jo\", \"Kendall\"]"
   ]
  },
  {
   "cell_type": "code",
   "execution_count": 5,
   "id": "27a7cf98-20e1-4cba-997e-97c003460137",
   "metadata": {},
   "outputs": [
    {
     "data": {
      "text/plain": [
       "range(0, 4)"
      ]
     },
     "execution_count": 5,
     "metadata": {},
     "output_type": "execute_result"
    }
   ],
   "source": [
    "range(len(people))"
   ]
  },
  {
   "cell_type": "code",
   "execution_count": null,
   "id": "f5a20771-151c-4b02-9240-052d4e5f09f4",
   "metadata": {},
   "outputs": [],
   "source": []
  }
 ],
 "metadata": {
  "kernelspec": {
   "display_name": "Python 3 (ipykernel)",
   "language": "python",
   "name": "python3"
  },
  "language_info": {
   "codemirror_mode": {
    "name": "ipython",
    "version": 3
   },
   "file_extension": ".py",
   "mimetype": "text/x-python",
   "name": "python",
   "nbconvert_exporter": "python",
   "pygments_lexer": "ipython3",
   "version": "3.7.13"
  }
 },
 "nbformat": 4,
 "nbformat_minor": 5
}
